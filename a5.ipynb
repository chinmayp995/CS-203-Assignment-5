{
  "nbformat": 4,
  "nbformat_minor": 0,
  "metadata": {
    "colab": {
      "provenance": [],
      "include_colab_link": true
    },
    "kernelspec": {
      "name": "python3",
      "display_name": "Python 3"
    },
    "language_info": {
      "name": "python"
    }
  },
  "cells": [
    {
      "cell_type": "markdown",
      "metadata": {
        "id": "view-in-github",
        "colab_type": "text"
      },
      "source": [
        "<a href=\"https://colab.research.google.com/github/chinmayp995/CS-203-Assignment-5/blob/main/a5.ipynb\" target=\"_parent\"><img src=\"https://colab.research.google.com/assets/colab-badge.svg\" alt=\"Open In Colab\"/></a>"
      ]
    },
    {
      "cell_type": "code",
      "execution_count": 1,
      "metadata": {
        "colab": {
          "base_uri": "https://localhost:8080/"
        },
        "collapsed": true,
        "id": "z8ZOJBF1zTve",
        "outputId": "b3061e15-bcf4-4607-fa8d-a5045530f347"
      },
      "outputs": [
        {
          "output_type": "stream",
          "name": "stdout",
          "text": [
            "Requirement already satisfied: kaggle in /usr/local/lib/python3.11/dist-packages (1.6.17)\n",
            "Requirement already satisfied: six>=1.10 in /usr/local/lib/python3.11/dist-packages (from kaggle) (1.17.0)\n",
            "Requirement already satisfied: certifi>=2023.7.22 in /usr/local/lib/python3.11/dist-packages (from kaggle) (2025.1.31)\n",
            "Requirement already satisfied: python-dateutil in /usr/local/lib/python3.11/dist-packages (from kaggle) (2.8.2)\n",
            "Requirement already satisfied: requests in /usr/local/lib/python3.11/dist-packages (from kaggle) (2.32.3)\n",
            "Requirement already satisfied: tqdm in /usr/local/lib/python3.11/dist-packages (from kaggle) (4.67.1)\n",
            "Requirement already satisfied: python-slugify in /usr/local/lib/python3.11/dist-packages (from kaggle) (8.0.4)\n",
            "Requirement already satisfied: urllib3 in /usr/local/lib/python3.11/dist-packages (from kaggle) (2.3.0)\n",
            "Requirement already satisfied: bleach in /usr/local/lib/python3.11/dist-packages (from kaggle) (6.2.0)\n",
            "Requirement already satisfied: webencodings in /usr/local/lib/python3.11/dist-packages (from bleach->kaggle) (0.5.1)\n",
            "Requirement already satisfied: text-unidecode>=1.3 in /usr/local/lib/python3.11/dist-packages (from python-slugify->kaggle) (1.3)\n",
            "Requirement already satisfied: charset-normalizer<4,>=2 in /usr/local/lib/python3.11/dist-packages (from requests->kaggle) (3.4.1)\n",
            "Requirement already satisfied: idna<4,>=2.5 in /usr/local/lib/python3.11/dist-packages (from requests->kaggle) (3.10)\n"
          ]
        }
      ],
      "source": [
        "pip install kaggle"
      ]
    },
    {
      "cell_type": "code",
      "source": [
        "!pip install augly"
      ],
      "metadata": {
        "id": "giHe0ubTFokG",
        "colab": {
          "base_uri": "https://localhost:8080/"
        },
        "outputId": "c7e731cc-d23d-4c7d-fa57-f9b6e70e0312"
      },
      "execution_count": 3,
      "outputs": [
        {
          "output_type": "stream",
          "name": "stdout",
          "text": [
            "Collecting augly\n",
            "  Downloading augly-1.0.0-py3-none-any.whl.metadata (9.4 kB)\n",
            "Collecting iopath>=0.1.8 (from augly)\n",
            "  Downloading iopath-0.1.10.tar.gz (42 kB)\n",
            "\u001b[?25l     \u001b[90m━━━━━━━━━━━━━━━━━━━━━━━━━━━━━━━━━━━━━━━━\u001b[0m \u001b[32m0.0/42.2 kB\u001b[0m \u001b[31m?\u001b[0m eta \u001b[36m-:--:--\u001b[0m\r\u001b[2K     \u001b[90m━━━━━━━━━━━━━━━━━━━━━━━━━━━━━━━━━━━━━━━━\u001b[0m \u001b[32m42.2/42.2 kB\u001b[0m \u001b[31m2.9 MB/s\u001b[0m eta \u001b[36m0:00:00\u001b[0m\n",
            "\u001b[?25h  Preparing metadata (setup.py) ... \u001b[?25l\u001b[?25hdone\n",
            "Collecting python-magic>=0.4.22 (from augly)\n",
            "  Downloading python_magic-0.4.27-py2.py3-none-any.whl.metadata (5.8 kB)\n",
            "Requirement already satisfied: regex>=2021.4.4 in /usr/local/lib/python3.11/dist-packages (from augly) (2024.11.6)\n",
            "Requirement already satisfied: tqdm in /usr/local/lib/python3.11/dist-packages (from iopath>=0.1.8->augly) (4.67.1)\n",
            "Requirement already satisfied: typing_extensions in /usr/local/lib/python3.11/dist-packages (from iopath>=0.1.8->augly) (4.12.2)\n",
            "Collecting portalocker (from iopath>=0.1.8->augly)\n",
            "  Downloading portalocker-3.1.1-py3-none-any.whl.metadata (8.6 kB)\n",
            "Downloading augly-1.0.0-py3-none-any.whl (24.3 MB)\n",
            "\u001b[2K   \u001b[90m━━━━━━━━━━━━━━━━━━━━━━━━━━━━━━━━━━━━━━━━\u001b[0m \u001b[32m24.3/24.3 MB\u001b[0m \u001b[31m23.7 MB/s\u001b[0m eta \u001b[36m0:00:00\u001b[0m\n",
            "\u001b[?25hDownloading python_magic-0.4.27-py2.py3-none-any.whl (13 kB)\n",
            "Downloading portalocker-3.1.1-py3-none-any.whl (19 kB)\n",
            "Building wheels for collected packages: iopath\n",
            "  Building wheel for iopath (setup.py) ... \u001b[?25l\u001b[?25hdone\n",
            "  Created wheel for iopath: filename=iopath-0.1.10-py3-none-any.whl size=31528 sha256=17cd82402edb7017091eeb7493a4592a089a9859d330103aff236a374701043a\n",
            "  Stored in directory: /root/.cache/pip/wheels/ba/5e/16/6117f8fe7e9c0c161a795e10d94645ebcf301ccbd01f66d8ec\n",
            "Successfully built iopath\n",
            "Installing collected packages: python-magic, portalocker, iopath, augly\n",
            "Successfully installed augly-1.0.0 iopath-0.1.10 portalocker-3.1.1 python-magic-0.4.27\n"
          ]
        }
      ]
    },
    {
      "cell_type": "code",
      "source": [
        "from transformers import ResNetForImageClassification\n",
        "\n",
        "model = ResNetForImageClassification.from_pretrained(\"microsoft/resnet-50\")\n",
        "\n",
        "model.eval()"
      ],
      "metadata": {
        "id": "TCauP43GFo4-"
      },
      "execution_count": null,
      "outputs": []
    },
    {
      "cell_type": "markdown",
      "source": [],
      "metadata": {
        "id": "uDsvins8FuWa"
      }
    },
    {
      "cell_type": "code",
      "source": [
        "from transformers import AutoFeatureExtractor, ResNetForImageClassification\n",
        "import torch\n",
        "from datasets import load_dataset\n",
        "\n",
        "dataset = load_dataset(\"huggingface/cats-image\")\n",
        "image = dataset[\"test\"][\"image\"][0]\n",
        "\n",
        "feature_extractor = AutoFeatureExtractor.from_pretrained(\"microsoft/resnet-50\")\n",
        "model = ResNetForImageClassification.from_pretrained(\"microsoft/resnet-50\")\n",
        "\n",
        "inputs = feature_extractor(image, return_tensors=\"pt\")\n",
        "\n",
        "with torch.no_grad():\n",
        "    logits = model(**inputs).logits\n",
        "\n",
        "# model predicts one of the 1000 ImageNet classes\n",
        "predicted_label = logits.argmax(-1).item()\n",
        "print(model.config.id2label[predicted_label])"
      ],
      "metadata": {
        "id": "hjO81_bxFsLf"
      },
      "execution_count": null,
      "outputs": []
    },
    {
      "cell_type": "code",
      "source": [],
      "metadata": {
        "id": "RBplniO-GWJw"
      },
      "execution_count": null,
      "outputs": []
    },
    {
      "cell_type": "code",
      "source": [
        "#  https://huggingface.co/microsoft/resnet-50"
      ],
      "metadata": {
        "id": "ju_oMFz16Vsy"
      },
      "execution_count": null,
      "outputs": []
    },
    {
      "cell_type": "markdown",
      "source": [],
      "metadata": {
        "id": "Or8y64qD6WDb"
      }
    },
    {
      "cell_type": "code",
      "source": [
        "!unzip test.zip"
      ],
      "metadata": {
        "colab": {
          "base_uri": "https://localhost:8080/"
        },
        "collapsed": true,
        "id": "vmzNWJBWhc9e",
        "outputId": "022d34b6-b6c4-4a3a-c73b-9e6a83db5267"
      },
      "execution_count": 1,
      "outputs": [
        {
          "output_type": "stream",
          "name": "stdout",
          "text": [
            "Archive:  test.zip\n",
            "   creating: cats/\n",
            "  inflating: cats/cat_190.jpg        \n",
            "  inflating: __MACOSX/cats/._cat_190.jpg  \n",
            "  inflating: cats/cat_147.jpg        \n",
            "  inflating: __MACOSX/cats/._cat_147.jpg  \n",
            "  inflating: cats/cat_542.jpg        \n",
            "  inflating: __MACOSX/cats/._cat_542.jpg  \n",
            "  inflating: cats/cat_595.jpg        \n",
            "  inflating: __MACOSX/cats/._cat_595.jpg  \n",
            "  inflating: cats/cat_422.jpg        \n",
            "  inflating: __MACOSX/cats/._cat_422.jpg  \n",
            "  inflating: cats/cat_583.jpg        \n",
            "  inflating: __MACOSX/cats/._cat_583.jpg  \n",
            "  inflating: cats/cat_384.jpg        \n",
            "  inflating: __MACOSX/cats/._cat_384.jpg  \n",
            "  inflating: cats/cat_586.jpg        \n",
            "  inflating: __MACOSX/cats/._cat_586.jpg  \n",
            "  inflating: cats/cat_545.jpg        \n",
            "  inflating: __MACOSX/cats/._cat_545.jpg  \n",
            "  inflating: cats/cat_223.jpg        \n",
            "  inflating: __MACOSX/cats/._cat_223.jpg  \n",
            "  inflating: cats/cat_551.jpg        \n",
            "  inflating: __MACOSX/cats/._cat_551.jpg  \n",
            "  inflating: cats/cat_587.jpg        \n",
            "  inflating: __MACOSX/cats/._cat_587.jpg  \n",
            "  inflating: cats/cat_140.jpg        \n",
            "  inflating: __MACOSX/cats/._cat_140.jpg  \n",
            "  inflating: cats/cat_342.jpg        \n",
            "  inflating: __MACOSX/cats/._cat_342.jpg  \n",
            "  inflating: cats/cat_430.jpg        \n",
            "  inflating: __MACOSX/cats/._cat_430.jpg  \n",
            "  inflating: cats/cat_418.jpg        \n",
            "  inflating: __MACOSX/cats/._cat_418.jpg  \n",
            "  inflating: cats/cat_395.jpg        \n",
            "  inflating: __MACOSX/cats/._cat_395.jpg  \n",
            "  inflating: cats/cat_156.jpg        \n",
            "  inflating: __MACOSX/cats/._cat_156.jpg  \n",
            "  inflating: cats/cat_585.jpg        \n",
            "  inflating: __MACOSX/cats/._cat_585.jpg  \n",
            "  inflating: cats/cat_234.jpg        \n",
            "  inflating: __MACOSX/cats/._cat_234.jpg  \n",
            "  inflating: cats/cat_355.jpg        \n",
            "  inflating: __MACOSX/cats/._cat_355.jpg  \n",
            "  inflating: cats/cat_433.jpg        \n",
            "  inflating: __MACOSX/cats/._cat_433.jpg  \n",
            "  inflating: cats/cat_341.jpg        \n",
            "  inflating: __MACOSX/cats/._cat_341.jpg  \n",
            "  inflating: cats/cat_332.jpg        \n",
            "  inflating: __MACOSX/cats/._cat_332.jpg  \n",
            "  inflating: cats/cat_468.jpg        \n",
            "  inflating: __MACOSX/cats/._cat_468.jpg  \n",
            "  inflating: cats/cat_124.jpg        \n",
            "  inflating: __MACOSX/cats/._cat_124.jpg  \n",
            "  inflating: cats/cat_118.jpg        \n",
            "  inflating: __MACOSX/cats/._cat_118.jpg  \n",
            "  inflating: cats/cat_520.jpg        \n",
            "  inflating: __MACOSX/cats/._cat_520.jpg  \n",
            "  inflating: cats/cat_290.jpg        \n",
            "  inflating: __MACOSX/cats/._cat_290.jpg  \n",
            "  inflating: cats/cat_119.jpg        \n",
            "  inflating: __MACOSX/cats/._cat_119.jpg  \n",
            "  inflating: cats/cat_88.jpg         \n",
            "  inflating: __MACOSX/cats/._cat_88.jpg  \n",
            "  inflating: cats/cat_496.jpg        \n",
            "  inflating: __MACOSX/cats/._cat_496.jpg  \n",
            "  inflating: cats/cat_523.jpg        \n",
            "  inflating: __MACOSX/cats/._cat_523.jpg  \n",
            "  inflating: cats/cat_251.jpg        \n",
            "  inflating: __MACOSX/cats/._cat_251.jpg  \n",
            "  inflating: cats/cat_279.jpg        \n",
            "  inflating: __MACOSX/cats/._cat_279.jpg  \n",
            "  inflating: cats/cat_244.jpg        \n",
            "  inflating: __MACOSX/cats/._cat_244.jpg  \n",
            "  inflating: cats/cat_60.jpg         \n",
            "  inflating: __MACOSX/cats/._cat_60.jpg  \n",
            "  inflating: cats/cat_446.jpg        \n",
            "  inflating: __MACOSX/cats/._cat_446.jpg  \n",
            "  inflating: cats/cat_268.jpg        \n",
            "  inflating: __MACOSX/cats/._cat_268.jpg  \n",
            "  inflating: cats/cat_255.jpg        \n",
            "  inflating: __MACOSX/cats/._cat_255.jpg  \n",
            "  inflating: cats/cat_109.jpg        \n",
            "  inflating: __MACOSX/cats/._cat_109.jpg  \n",
            "  inflating: cats/cat_525.jpg        \n",
            "  inflating: __MACOSX/cats/._cat_525.jpg  \n",
            "  inflating: cats/cat_281.jpg        \n",
            "  inflating: __MACOSX/cats/._cat_281.jpg  \n",
            "  inflating: cats/cat_94.jpg         \n",
            "  inflating: __MACOSX/cats/._cat_94.jpg  \n",
            "  inflating: cats/cat_313.jpg        \n",
            "  inflating: __MACOSX/cats/._cat_313.jpg  \n",
            "  inflating: cats/cat_1.jpg          \n",
            "  inflating: __MACOSX/cats/._cat_1.jpg  \n",
            "  inflating: cats/cat_528.jpg        \n",
            "  inflating: __MACOSX/cats/._cat_528.jpg  \n",
            "  inflating: cats/cat_306.jpg        \n",
            "  inflating: __MACOSX/cats/._cat_306.jpg  \n",
            "  inflating: cats/cat_56.jpg         \n",
            "  inflating: __MACOSX/cats/._cat_56.jpg  \n",
            "  inflating: cats/cat_106.jpg        \n",
            "  inflating: __MACOSX/cats/._cat_106.jpg  \n",
            "  inflating: cats/cat_113.jpg        \n",
            "  inflating: __MACOSX/cats/._cat_113.jpg  \n",
            "  inflating: cats/cat_96.jpg         \n",
            "  inflating: __MACOSX/cats/._cat_96.jpg  \n",
            "  inflating: cats/cat_473.jpg        \n",
            "  inflating: __MACOSX/cats/._cat_473.jpg  \n",
            "  inflating: cats/cat_116.jpg        \n",
            "  inflating: __MACOSX/cats/._cat_116.jpg  \n",
            "  inflating: cats/cat_464.jpg        \n",
            "  inflating: __MACOSX/cats/._cat_464.jpg  \n",
            "  inflating: cats/cat_114.jpg        \n",
            "  inflating: __MACOSX/cats/._cat_114.jpg  \n",
            "  inflating: cats/cat_538.jpg        \n",
            "  inflating: __MACOSX/cats/._cat_538.jpg  \n",
            "  inflating: cats/cat_504.jpg        \n",
            "  inflating: __MACOSX/cats/._cat_504.jpg  \n",
            "  inflating: cats/cat_5.jpg          \n",
            "  inflating: __MACOSX/cats/._cat_5.jpg  \n",
            "  inflating: cats/cat_358.jpg        \n",
            "  inflating: __MACOSX/cats/._cat_358.jpg  \n",
            "  inflating: cats/cat_417.jpg        \n",
            "  inflating: __MACOSX/cats/._cat_417.jpg  \n",
            "  inflating: cats/cat_371.jpg        \n",
            "  inflating: __MACOSX/cats/._cat_371.jpg  \n",
            "  inflating: cats/cat_575.jpg        \n",
            "  inflating: __MACOSX/cats/._cat_575.jpg  \n",
            "  inflating: cats/cat_574.jpg        \n",
            "  inflating: __MACOSX/cats/._cat_574.jpg  \n",
            "  inflating: cats/cat_158.jpg        \n",
            "  inflating: __MACOSX/cats/._cat_158.jpg  \n",
            "  inflating: cats/cat_564.jpg        \n",
            "  inflating: __MACOSX/cats/._cat_564.jpg  \n",
            "  inflating: cats/cat_203.jpg        \n",
            "  inflating: __MACOSX/cats/._cat_203.jpg  \n",
            "  inflating: cats/cat_375.jpg        \n",
            "  inflating: __MACOSX/cats/._cat_375.jpg  \n",
            "  inflating: cats/cat_162.jpg        \n",
            "  inflating: __MACOSX/cats/._cat_162.jpg  \n",
            "  inflating: cats/cat_18.jpg         \n",
            "  inflating: __MACOSX/cats/._cat_18.jpg  \n",
            "   creating: dogs/\n",
            "  inflating: dogs/dog_147.jpg        \n",
            "  inflating: __MACOSX/dogs/._dog_147.jpg  \n",
            "  inflating: dogs/dog_219.jpg        \n",
            "  inflating: __MACOSX/dogs/._dog_219.jpg  \n",
            "  inflating: dogs/dog_191.jpg        \n",
            "  inflating: __MACOSX/dogs/._dog_191.jpg  \n",
            "  inflating: dogs/dog_344.jpg        \n",
            "  inflating: __MACOSX/dogs/._dog_344.jpg  \n",
            "  inflating: dogs/dog_150.jpg        \n",
            "  inflating: __MACOSX/dogs/._dog_150.jpg  \n",
            "  inflating: dogs/dog_227.jpg        \n",
            "  inflating: __MACOSX/dogs/._dog_227.jpg  \n",
            "  inflating: dogs/dog_421.jpg        \n",
            "  inflating: __MACOSX/dogs/._dog_421.jpg  \n",
            "  inflating: dogs/dog_380.jpg        \n",
            "  inflating: __MACOSX/dogs/._dog_380.jpg  \n",
            "  inflating: dogs/dog_155.jpg        \n",
            "  inflating: __MACOSX/dogs/._dog_155.jpg  \n",
            "  inflating: dogs/dog_141.jpg        \n",
            "  inflating: __MACOSX/dogs/._dog_141.jpg  \n",
            "  inflating: dogs/dog_196.jpg        \n",
            "  inflating: __MACOSX/dogs/._dog_196.jpg  \n",
            "  inflating: dogs/dog_551.jpg        \n",
            "  inflating: __MACOSX/dogs/._dog_551.jpg  \n",
            "  inflating: dogs/dog_237.jpg        \n",
            "  inflating: __MACOSX/dogs/._dog_237.jpg  \n",
            "  inflating: dogs/dog_236.jpg        \n",
            "  inflating: __MACOSX/dogs/._dog_236.jpg  \n",
            "  inflating: dogs/dog_197.jpg        \n",
            "  inflating: __MACOSX/dogs/._dog_197.jpg  \n",
            "  inflating: dogs/dog_168.jpg        \n",
            "  inflating: __MACOSX/dogs/._dog_168.jpg  \n",
            "  inflating: dogs/dog_28.jpg         \n",
            "  inflating: __MACOSX/dogs/._dog_28.jpg  \n",
            "  inflating: dogs/dog_354.jpg        \n",
            "  inflating: __MACOSX/dogs/._dog_354.jpg  \n",
            "  inflating: dogs/dog_142.jpg        \n",
            "  inflating: __MACOSX/dogs/._dog_142.jpg  \n",
            "  inflating: dogs/dog_181.jpg        \n",
            "  inflating: __MACOSX/dogs/._dog_181.jpg  \n",
            "  inflating: dogs/dog_194.jpg        \n",
            "  inflating: __MACOSX/dogs/._dog_194.jpg  \n",
            "  inflating: dogs/dog_369.jpg        \n",
            "  inflating: __MACOSX/dogs/._dog_369.jpg  \n",
            "  inflating: dogs/dog_355.jpg        \n",
            "  inflating: __MACOSX/dogs/._dog_355.jpg  \n",
            "  inflating: dogs/dog_124.jpg        \n",
            "  inflating: __MACOSX/dogs/._dog_124.jpg  \n",
            "  inflating: dogs/dog_130.jpg        \n",
            "  inflating: __MACOSX/dogs/._dog_130.jpg  \n",
            "  inflating: dogs/dog_534.jpg        \n",
            "  inflating: __MACOSX/dogs/._dog_534.jpg  \n",
            "  inflating: dogs/dog_520.jpg        \n",
            "  inflating: __MACOSX/dogs/._dog_520.jpg  \n",
            "  inflating: dogs/dog_521.jpg        \n",
            "  inflating: __MACOSX/dogs/._dog_521.jpg  \n",
            "  inflating: dogs/dog_482.jpg        \n",
            "  inflating: __MACOSX/dogs/._dog_482.jpg  \n",
            "  inflating: dogs/dog_59.jpg         \n",
            "  inflating: __MACOSX/dogs/._dog_59.jpg  \n",
            "  inflating: dogs/dog_327.jpg        \n",
            "  inflating: __MACOSX/dogs/._dog_327.jpg  \n",
            "  inflating: dogs/dog_443.jpg        \n",
            "  inflating: __MACOSX/dogs/._dog_443.jpg  \n",
            "  inflating: dogs/dog_536.jpg        \n",
            "  inflating: __MACOSX/dogs/._dog_536.jpg  \n",
            "  inflating: dogs/dog_244.jpg        \n",
            "  inflating: __MACOSX/dogs/._dog_244.jpg  \n",
            "  inflating: dogs/dog_522.jpg        \n",
            "  inflating: __MACOSX/dogs/._dog_522.jpg  \n",
            "  inflating: dogs/dog_442.jpg        \n",
            "  inflating: __MACOSX/dogs/._dog_442.jpg  \n",
            "  inflating: dogs/dog_89.jpg         \n",
            "  inflating: __MACOSX/dogs/._dog_89.jpg  \n",
            "  inflating: dogs/dog_240.jpg        \n",
            "  inflating: __MACOSX/dogs/._dog_240.jpg  \n",
            "  inflating: dogs/dog_283.jpg        \n",
            "  inflating: __MACOSX/dogs/._dog_283.jpg  \n",
            "  inflating: dogs/dog_123.jpg        \n",
            "  inflating: __MACOSX/dogs/._dog_123.jpg  \n",
            "  inflating: dogs/dog_75.jpg         \n",
            "  inflating: __MACOSX/dogs/._dog_75.jpg  \n",
            "  inflating: dogs/dog_519.jpg        \n",
            "  inflating: __MACOSX/dogs/._dog_519.jpg  \n",
            "  inflating: dogs/dog_518.jpg        \n",
            "  inflating: __MACOSX/dogs/._dog_518.jpg  \n",
            "  inflating: dogs/dog_461.jpg        \n",
            "  inflating: __MACOSX/dogs/._dog_461.jpg  \n",
            "  inflating: dogs/dog_313.jpg        \n",
            "  inflating: __MACOSX/dogs/._dog_313.jpg  \n",
            "  inflating: dogs/dog_528.jpg        \n",
            "  inflating: __MACOSX/dogs/._dog_528.jpg  \n",
            "  inflating: dogs/dog_44.jpg         \n",
            "  inflating: __MACOSX/dogs/._dog_44.jpg  \n",
            "  inflating: dogs/dog_476.jpg        \n",
            "  inflating: __MACOSX/dogs/._dog_476.jpg  \n",
            "  inflating: dogs/dog_462.jpg        \n",
            "  inflating: __MACOSX/dogs/._dog_462.jpg  \n",
            "  inflating: dogs/dog_258.jpg        \n",
            "  inflating: __MACOSX/dogs/._dog_258.jpg  \n",
            "  inflating: dogs/dog_517.jpg        \n",
            "  inflating: __MACOSX/dogs/._dog_517.jpg  \n",
            "  inflating: dogs/dog_43.jpg         \n",
            "  inflating: __MACOSX/dogs/._dog_43.jpg  \n",
            "  inflating: dogs/dog_472.jpg        \n",
            "  inflating: __MACOSX/dogs/._dog_472.jpg  \n",
            "  inflating: dogs/dog_464.jpg        \n",
            "  inflating: __MACOSX/dogs/._dog_464.jpg  \n",
            "  inflating: dogs/dog_302.jpg        \n",
            "  inflating: __MACOSX/dogs/._dog_302.jpg  \n",
            "  inflating: dogs/dog_68.jpg         \n",
            "  inflating: __MACOSX/dogs/._dog_68.jpg  \n",
            "  inflating: dogs/dog_114.jpg        \n",
            "  inflating: __MACOSX/dogs/._dog_114.jpg  \n",
            "  inflating: dogs/dog_303.jpg        \n",
            "  inflating: __MACOSX/dogs/._dog_303.jpg  \n",
            "  inflating: dogs/dog_364.jpg        \n",
            "  inflating: __MACOSX/dogs/._dog_364.jpg  \n",
            "  inflating: dogs/dog_563.jpg        \n",
            "  inflating: __MACOSX/dogs/._dog_563.jpg  \n",
            "  inflating: dogs/dog_211.jpg        \n",
            "  inflating: __MACOSX/dogs/._dog_211.jpg  \n",
            "  inflating: dogs/dog_173.jpg        \n",
            "  inflating: __MACOSX/dogs/._dog_173.jpg  \n",
            "  inflating: dogs/dog_415.jpg        \n",
            "  inflating: __MACOSX/dogs/._dog_415.jpg  \n",
            "  inflating: dogs/dog_398.jpg        \n",
            "  inflating: __MACOSX/dogs/._dog_398.jpg  \n",
            "  inflating: dogs/dog_159.jpg        \n",
            "  inflating: __MACOSX/dogs/._dog_159.jpg  \n",
            "  inflating: dogs/dog_213.jpg        \n",
            "  inflating: __MACOSX/dogs/._dog_213.jpg  \n",
            "  inflating: dogs/dog_377.jpg        \n",
            "  inflating: __MACOSX/dogs/._dog_377.jpg  \n",
            "  inflating: dogs/dog_177.jpg        \n",
            "  inflating: __MACOSX/dogs/._dog_177.jpg  \n",
            "  inflating: dogs/dog_229.jpg        \n",
            "  inflating: __MACOSX/dogs/._dog_229.jpg  \n",
            "  inflating: dogs/dog_360.jpg        \n",
            "  inflating: __MACOSX/dogs/._dog_360.jpg  \n"
          ]
        }
      ]
    },
    {
      "cell_type": "code",
      "source": [
        "import os\n",
        "import shutil\n",
        "import random\n",
        "import numpy as np\n",
        "from glob import glob\n",
        "from sklearn.model_selection import train_test_split\n",
        "from PIL import Image\n",
        "import augly.image as imaugs\n",
        "import augly.utils as utils\n",
        "import matplotlib.pyplot as plt"
      ],
      "metadata": {
        "id": "pO9XzlYAhuCa"
      },
      "execution_count": 4,
      "outputs": []
    },
    {
      "cell_type": "code",
      "source": [
        "cats_dataset_path = \"/content/cats\"\n",
        "dogs_dataset_path = \"/content/dogs\"\n",
        "train_path = \"./dataset/train\"\n",
        "test_path = \"./dataset/test\"\n",
        "os.makedirs(train_path, exist_ok=True)\n",
        "os.makedirs(test_path, exist_ok=True)"
      ],
      "metadata": {
        "id": "21szwJGZi93z"
      },
      "execution_count": 5,
      "outputs": []
    },
    {
      "cell_type": "code",
      "source": [],
      "metadata": {
        "id": "pkjGJRmrjLPa"
      },
      "execution_count": null,
      "outputs": []
    }
  ]
}